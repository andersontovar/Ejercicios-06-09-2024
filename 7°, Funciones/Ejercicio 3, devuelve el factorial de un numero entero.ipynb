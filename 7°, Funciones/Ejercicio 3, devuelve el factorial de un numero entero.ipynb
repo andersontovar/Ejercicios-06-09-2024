{
 "cells": [
  {
   "cell_type": "code",
   "execution_count": 23,
   "metadata": {},
   "outputs": [],
   "source": [
    "def factorizacion(numero):\n",
    "    factorial = 1\n",
    "\n",
    "    if type(numero) == int and numero > 1:\n",
    "        while numero > 0:\n",
    "            factorial = numero * factorial # Factorial va ha ser el resultado que se valla dando en cada iteracion\n",
    "            numero -= 1\n",
    "        print(factorial)\n",
    "    else: # Solo se ejecuta si el numero no es entero y no es mayor a 1\n",
    "        print('El numero debe ser mayor a 1')"
   ]
  },
  {
   "cell_type": "code",
   "execution_count": 29,
   "metadata": {},
   "outputs": [
    {
     "name": "stdout",
     "output_type": "stream",
     "text": [
      "120\n",
      "El numero debe ser mayor a 1\n"
     ]
    }
   ],
   "source": [
    "factorizacion(5)\n",
    "factorizacion(0)"
   ]
  }
 ],
 "metadata": {
  "kernelspec": {
   "display_name": "Python 3",
   "language": "python",
   "name": "python3"
  },
  "language_info": {
   "codemirror_mode": {
    "name": "ipython",
    "version": 3
   },
   "file_extension": ".py",
   "mimetype": "text/x-python",
   "name": "python",
   "nbconvert_exporter": "python",
   "pygments_lexer": "ipython3",
   "version": "3.12.5"
  }
 },
 "nbformat": 4,
 "nbformat_minor": 2
}
