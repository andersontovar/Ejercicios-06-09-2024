{
 "cells": [
  {
   "cell_type": "code",
   "execution_count": 46,
   "metadata": {},
   "outputs": [],
   "source": [
    "import math\n",
    "\n",
    "def medidas_de_dispersion(lista):\n",
    "    media = sum(lista) / len(lista)\n",
    "\n",
    "    suma = []\n",
    "    for i in lista:\n",
    "        cuadrado = (i - media)**2\n",
    "        suma.append(cuadrado)\n",
    "    suma_cuadrados = sum(suma)\n",
    "    varianza = suma_cuadrados / (len(lista) - 1)\n",
    "\n",
    "    desviacion_tipica = math.sqrt(varianza)\n",
    "\n",
    "    diccionario = {'Media':media, 'Varianza':varianza, 'Desviacion tipica':round(desviacion_tipica, 2)}\n",
    "    print(diccionario)"
   ]
  },
  {
   "cell_type": "code",
   "execution_count": 47,
   "metadata": {},
   "outputs": [
    {
     "name": "stdout",
     "output_type": "stream",
     "text": [
      "{'Media': 6.0, 'Varianza': 10.0, 'Desviacion tipica': 3.16}\n"
     ]
    }
   ],
   "source": [
    "medidas_de_dispersion([2,4,6,8,10])"
   ]
  }
 ],
 "metadata": {
  "kernelspec": {
   "display_name": "Python 3",
   "language": "python",
   "name": "python3"
  },
  "language_info": {
   "codemirror_mode": {
    "name": "ipython",
    "version": 3
   },
   "file_extension": ".py",
   "mimetype": "text/x-python",
   "name": "python",
   "nbconvert_exporter": "python",
   "pygments_lexer": "ipython3",
   "version": "3.12.5"
  }
 },
 "nbformat": 4,
 "nbformat_minor": 2
}
