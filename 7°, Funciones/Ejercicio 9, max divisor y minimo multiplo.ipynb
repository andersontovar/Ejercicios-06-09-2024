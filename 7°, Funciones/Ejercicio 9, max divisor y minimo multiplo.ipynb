{
 "cells": [
  {
   "cell_type": "code",
   "execution_count": 49,
   "metadata": {},
   "outputs": [],
   "source": [
    "def maximo_comun_divisor(numero1, numero2):\n",
    "    if numero1 >= numero2: # Convierte el numero mayor en a y el menor en b\n",
    "        a = numero1\n",
    "        b = numero2\n",
    "    else:\n",
    "        a = numero2\n",
    "        b = numero1\n",
    "\n",
    "    while b != 0: # Se ejecuta hasta que b sea distinto a 0\n",
    "        resto = a % b # Busca el resto\n",
    "        a = b # Convierte a en b\n",
    "        b = resto # Convierte b en el resto\n",
    "    print(f'El maximo comun divisor de {numero1} y {numero2} es: {a}')\n",
    "    return a\n",
    "\n",
    "def mínimo_común_múltiplo(numero1, numero2):\n",
    "    mcd = maximo_comun_divisor(numero1, numero2) # Utiliza la funcion anterior para encontrar el MCD de los 2 numeros\n",
    "    mcm = (numero1 * numero2)//mcd # Divide el resultado de numero1 x numero2 en el MCD\n",
    "    print(f'El minimo comun multiplo de {numero1} y {numero2} es: {mcm}')"
   ]
  },
  {
   "cell_type": "code",
   "execution_count": 55,
   "metadata": {},
   "outputs": [
    {
     "name": "stdout",
     "output_type": "stream",
     "text": [
      "El maximo comun divisor de 12 y 18 es: 6\n",
      "El minimo comun multiplo de 12 y 18 es: 36\n"
     ]
    }
   ],
   "source": [
    "mínimo_común_múltiplo(12, 18)"
   ]
  }
 ],
 "metadata": {
  "kernelspec": {
   "display_name": "Python 3",
   "language": "python",
   "name": "python3"
  },
  "language_info": {
   "codemirror_mode": {
    "name": "ipython",
    "version": 3
   },
   "file_extension": ".py",
   "mimetype": "text/x-python",
   "name": "python",
   "nbconvert_exporter": "python",
   "pygments_lexer": "ipython3",
   "version": "3.12.5"
  }
 },
 "nbformat": 4,
 "nbformat_minor": 2
}
