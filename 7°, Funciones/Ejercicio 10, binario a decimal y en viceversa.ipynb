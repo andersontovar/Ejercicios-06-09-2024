{
 "cells": [
  {
   "cell_type": "code",
   "execution_count": 206,
   "metadata": {},
   "outputs": [],
   "source": [
    "def decimal_a_binario(decimal):\n",
    "    binario = bin(decimal)\n",
    "    print(f'El numero decimal {decimal} a binario es: {binario}')\n",
    "\n",
    "def binario_a_decimal(binario):\n",
    "    lista_binaria = [int(i) for i in str(binario)] # Convierte el numero binario en str y despues cada numero en entero, los agrega en una lista\n",
    "    \n",
    "    largo = len(lista_binaria) - 1 # Largo es igual al total de elementos menos 1 de la lista binaria\n",
    "    lista_potencias = [largo - i for i in range(largo)] # En el rango de largo, guarda cada numero restado en lista\n",
    "    lista_potencias.append(0)\n",
    "\n",
    "    decimal = []\n",
    "    for i in lista_binaria:\n",
    "        resultado = i * (2**largo) # Eleva a la potencia cada numero binario\n",
    "        decimal.append(resultado) # Guarda los resultados en una lista\n",
    "        largo -= 1 # Resta - 1 a largo\n",
    "    print(f'El numero binario {binario} a decimal es: {sum(decimal)}') # Suma los resultados"
   ]
  },
  {
   "cell_type": "code",
   "execution_count": 207,
   "metadata": {},
   "outputs": [
    {
     "name": "stdout",
     "output_type": "stream",
     "text": [
      "El numero decimal 27 a binario es: 0b11011\n",
      "El numero binario 110110 a decimal es: 54\n",
      "El numero binario 100101001010 a decimal es: 2378\n"
     ]
    }
   ],
   "source": [
    "decimal_a_binario(27)\n",
    "binario_a_decimal(110110)\n",
    "binario_a_decimal(100101001010)"
   ]
  }
 ],
 "metadata": {
  "kernelspec": {
   "display_name": "Python 3",
   "language": "python",
   "name": "python3"
  },
  "language_info": {
   "codemirror_mode": {
    "name": "ipython",
    "version": 3
   },
   "file_extension": ".py",
   "mimetype": "text/x-python",
   "name": "python",
   "nbconvert_exporter": "python",
   "pygments_lexer": "ipython3",
   "version": "3.12.5"
  }
 },
 "nbformat": 4,
 "nbformat_minor": 2
}
