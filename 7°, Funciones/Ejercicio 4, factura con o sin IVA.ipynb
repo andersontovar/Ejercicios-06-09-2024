{
 "cells": [
  {
   "cell_type": "code",
   "execution_count": 40,
   "metadata": {},
   "outputs": [],
   "source": [
    "def factura(numero, IVA):\n",
    "\n",
    "    if IVA == 0:\n",
    "        IVA = 0.21\n",
    "        porcentaje_añadir = numero * IVA\n",
    "        factura_con_iva_añadido =  numero + porcentaje_añadir\n",
    "        print(f'El valor de la factura son: {factura_con_iva_añadido}€')\n",
    "    elif IVA == 21:\n",
    "        porcentaje_añadir = (numero * IVA) / 100\n",
    "        factura_con_iva =  numero + porcentaje_añadir\n",
    "        print(f'EL valor de la factura son: {factura_con_iva}€')\n",
    "    else:\n",
    "        print('El porcentaje del IVA es incorrecto')"
   ]
  },
  {
   "cell_type": "code",
   "execution_count": 42,
   "metadata": {},
   "outputs": [
    {
     "name": "stdout",
     "output_type": "stream",
     "text": [
      "EL valor de la factura son: 121.0€\n",
      "El valor de la factura son: 278.3€\n"
     ]
    }
   ],
   "source": [
    "factura(100, 21)\n",
    "factura(230, 0)"
   ]
  }
 ],
 "metadata": {
  "kernelspec": {
   "display_name": "Python 3",
   "language": "python",
   "name": "python3"
  },
  "language_info": {
   "codemirror_mode": {
    "name": "ipython",
    "version": 3
   },
   "file_extension": ".py",
   "mimetype": "text/x-python",
   "name": "python",
   "nbconvert_exporter": "python",
   "pygments_lexer": "ipython3",
   "version": "3.12.5"
  }
 },
 "nbformat": 4,
 "nbformat_minor": 2
}
