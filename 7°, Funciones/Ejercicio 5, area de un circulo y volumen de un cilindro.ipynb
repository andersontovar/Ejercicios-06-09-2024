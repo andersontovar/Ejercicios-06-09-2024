{
 "cells": [
  {
   "cell_type": "code",
   "execution_count": 20,
   "metadata": {},
   "outputs": [],
   "source": [
    "import math\n",
    "\n",
    "def area_de_un_circulo(diametro, medida_de_longitud):\n",
    "    r = diametro / 2\n",
    "    pi = math.pi\n",
    "    area = pi * (r **2)\n",
    "    print(f'El area de un circulo es: {round(area, 2)}{medida_de_longitud}²')\n",
    "def volumen_de_un_cilindro(diametro, altura, medida_de_longitud):\n",
    "    r = diametro / 2\n",
    "    pi = math.pi\n",
    "    volumen = (pi * (r **2))* altura\n",
    "    print(f'El volumen de un cilindro es: {round(volumen, 2)}{medida_de_longitud}³')"
   ]
  },
  {
   "cell_type": "code",
   "execution_count": 22,
   "metadata": {},
   "outputs": [
    {
     "name": "stdout",
     "output_type": "stream",
     "text": [
      "El area de un circulo es: 78.54cm²\n",
      "El volumen de un cilindro es: 1335.18cm³\n"
     ]
    }
   ],
   "source": [
    "area_de_un_circulo(10, 'cm')\n",
    "volumen_de_un_cilindro(10, 17, 'cm')"
   ]
  }
 ],
 "metadata": {
  "kernelspec": {
   "display_name": "Python 3",
   "language": "python",
   "name": "python3"
  },
  "language_info": {
   "codemirror_mode": {
    "name": "ipython",
    "version": 3
   },
   "file_extension": ".py",
   "mimetype": "text/x-python",
   "name": "python",
   "nbconvert_exporter": "python",
   "pygments_lexer": "ipython3",
   "version": "3.12.5"
  }
 },
 "nbformat": 4,
 "nbformat_minor": 2
}
