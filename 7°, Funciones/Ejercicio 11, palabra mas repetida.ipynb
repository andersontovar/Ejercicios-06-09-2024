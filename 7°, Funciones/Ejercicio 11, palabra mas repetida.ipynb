{
 "cells": [
  {
   "cell_type": "code",
   "execution_count": 129,
   "metadata": {},
   "outputs": [],
   "source": [
    "def frecuencia_en_que_aparece_una_palabra(texto):\n",
    "    diccionario = {}\n",
    "\n",
    "    texto = (texto.replace(',', '').replace('.', '')).lower()\n",
    "    texto_modificado = texto.split()\n",
    "\n",
    "    for i in texto_modificado:\n",
    "        if i in diccionario:\n",
    "            diccionario[i] += 1\n",
    "        else:\n",
    "            diccionario[i] = 1\n",
    "    return diccionario\n",
    "def palabra_mas_repetida(texto):\n",
    "    frecuencia = frecuencia_en_que_aparece_una_palabra(texto)\n",
    "    print(frecuencia)\n",
    "\n",
    "    lista = []\n",
    "    for i in frecuencia.values():\n",
    "        lista.append(i)\n",
    "    numero_de_veces_repetida = max(lista)\n",
    "\n",
    "    for i, e in frecuencia.items():\n",
    "        if e == numero_de_veces_repetida:\n",
    "            print((i, e))"
   ]
  },
  {
   "cell_type": "code",
   "execution_count": 131,
   "metadata": {},
   "outputs": [
    {
     "data": {
      "text/plain": [
       "{'en': 3,\n",
       " 'el': 2,\n",
       " 'jardín': 3,\n",
       " 'de': 3,\n",
       " 'la': 5,\n",
       " 'esperanza': 5,\n",
       " 'florece': 1,\n",
       " 'cada': 2,\n",
       " 'rincón': 2,\n",
       " 'del': 3,\n",
       " 'está': 1,\n",
       " 'lleno': 1,\n",
       " 'las': 1,\n",
       " 'flores': 1,\n",
       " 'crecen': 1,\n",
       " 'y': 2,\n",
       " 'brillan': 1,\n",
       " 'con': 1,\n",
       " 'luz': 2,\n",
       " 'sol': 2,\n",
       " 'refleja': 1,\n",
       " 'que': 1,\n",
       " 'sentimos': 1}"
      ]
     },
     "execution_count": 131,
     "metadata": {},
     "output_type": "execute_result"
    }
   ],
   "source": [
    "frecuencia_en_que_aparece_una_palabra('En el jardín de la esperanza, la esperanza florece en cada rincón. Cada rincón del jardín está lleno de esperanza. Las flores de esperanza crecen y brillan con la luz del sol, y la luz del sol en el jardín refleja la esperanza que sentimos.')"
   ]
  },
  {
   "cell_type": "code",
   "execution_count": 130,
   "metadata": {},
   "outputs": [
    {
     "name": "stdout",
     "output_type": "stream",
     "text": [
      "{'en': 3, 'el': 2, 'jardín': 3, 'de': 3, 'la': 5, 'esperanza': 5, 'florece': 1, 'cada': 2, 'rincón': 2, 'del': 3, 'está': 1, 'lleno': 1, 'las': 1, 'flores': 1, 'crecen': 1, 'y': 2, 'brillan': 1, 'con': 1, 'luz': 2, 'sol': 2, 'refleja': 1, 'que': 1, 'sentimos': 1}\n",
      "('la', 5)\n",
      "('esperanza', 5)\n"
     ]
    }
   ],
   "source": [
    "palabra_mas_repetida('En el jardín de la esperanza, la esperanza florece en cada rincón. Cada rincón del jardín está lleno de esperanza. Las flores de esperanza crecen y brillan con la luz del sol, y la luz del sol en el jardín refleja la esperanza que sentimos.')"
   ]
  }
 ],
 "metadata": {
  "kernelspec": {
   "display_name": "Python 3",
   "language": "python",
   "name": "python3"
  },
  "language_info": {
   "codemirror_mode": {
    "name": "ipython",
    "version": 3
   },
   "file_extension": ".py",
   "mimetype": "text/x-python",
   "name": "python",
   "nbconvert_exporter": "python",
   "pygments_lexer": "ipython3",
   "version": "3.12.5"
  }
 },
 "nbformat": 4,
 "nbformat_minor": 2
}
